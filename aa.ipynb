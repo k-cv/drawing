{
 "cells": [
  {
   "cell_type": "code",
   "execution_count": null,
   "metadata": {},
   "outputs": [
    {
     "name": "stdout",
     "output_type": "stream",
     "text": [
      "フォルダ内およびサブフォルダ内のPNGファイルの数: 645\n"
     ]
    }
   ],
   "source": [
    "import os\n",
    "\n",
    "def count_png_files_recursive(directory):\n",
    "    count = 0\n",
    "    # os.walkでサブフォルダも含めて巡回\n",
    "    for root, _, files in os.walk(directory):\n",
    "        count += len([file for file in files if file.endswith('.jpg')])\n",
    "    return count\n",
    "\n",
    "# フォルダのパスを指定\n",
    "folder_path = \"/home/kfujii/drawing/data/01-9月\"\n",
    "png_count = count_png_files_recursive(folder_path)\n",
    "\n",
    "print(f\"フォルダ内およびサブフォルダ内のPNGファイルの数: {png_count}\")\n"
   ]
  },
  {
   "cell_type": "code",
   "execution_count": 6,
   "metadata": {},
   "outputs": [
    {
     "data": {
      "text/plain": [
       "3751"
      ]
     },
     "execution_count": 6,
     "metadata": {},
     "output_type": "execute_result"
    }
   ],
   "source": [
    "367 + 2739 + 645"
   ]
  },
  {
   "cell_type": "code",
   "execution_count": 3,
   "metadata": {},
   "outputs": [
    {
     "name": "stdout",
     "output_type": "stream",
     "text": [
      "サブディレクトリの数: 37\n"
     ]
    }
   ],
   "source": [
    "import os\n",
    "\n",
    "def count_subdirectories(directory):\n",
    "    # 指定されたディレクトリ内のサブディレクトリのリストを取得\n",
    "    subdirectories = [f for f in os.listdir(directory) if os.path.isdir(os.path.join(directory, f))]\n",
    "    return len(subdirectories)\n",
    "\n",
    "# 使用例\n",
    "directory_path = '/home/kfujii/drawing/data/01-9月'  # ここに調べたいディレクトリのパスを指定\n",
    "print(f\"サブディレクトリの数: {count_subdirectories(directory_path)}\")\n"
   ]
  },
  {
   "cell_type": "code",
   "execution_count": 4,
   "metadata": {},
   "outputs": [
    {
     "data": {
      "text/plain": [
       "243"
      ]
     },
     "execution_count": 4,
     "metadata": {},
     "output_type": "execute_result"
    }
   ],
   "source": [
    "29 + 177 + 37"
   ]
  },
  {
   "cell_type": "code",
   "execution_count": 5,
   "metadata": {},
   "outputs": [
    {
     "data": {
      "text/plain": [
       "15.436213991769547"
      ]
     },
     "execution_count": 5,
     "metadata": {},
     "output_type": "execute_result"
    }
   ],
   "source": [
    "3751 / 243"
   ]
  },
  {
   "cell_type": "code",
   "execution_count": 1,
   "metadata": {},
   "outputs": [
    {
     "name": "stdout",
     "output_type": "stream",
     "text": [
      "フォルダ内およびサブフォルダ内のPNGファイルの数: 47\n"
     ]
    }
   ],
   "source": [
    "import os\n",
    "\n",
    "def count_png_files_recursive(directory):\n",
    "    count = 0\n",
    "    # os.walkでサブフォルダも含めて巡回\n",
    "    for root, _, files in os.walk(directory):\n",
    "        count += len([file for file in files if file.endswith('.jpg')])\n",
    "    return count\n",
    "\n",
    "# フォルダのパスを指定\n",
    "folder_path = \"/home/kfujii/drawing/data/01_11月12日/se200f_2\"\n",
    "png_count = count_png_files_recursive(folder_path)\n",
    "\n",
    "print(f\"フォルダ内およびサブフォルダ内のPNGファイルの数: {png_count}\")\n",
    "\n"
   ]
  },
  {
   "cell_type": "code",
   "execution_count": 2,
   "metadata": {},
   "outputs": [
    {
     "data": {
      "text/plain": [
       "70.2127659574468"
      ]
     },
     "execution_count": 2,
     "metadata": {},
     "output_type": "execute_result"
    }
   ],
   "source": [
    "33/47 * 100"
   ]
  },
  {
   "cell_type": "code",
   "execution_count": null,
   "metadata": {},
   "outputs": [],
   "source": []
  }
 ],
 "metadata": {
  "kernelspec": {
   "display_name": "vit",
   "language": "python",
   "name": "python3"
  },
  "language_info": {
   "codemirror_mode": {
    "name": "ipython",
    "version": 3
   },
   "file_extension": ".py",
   "mimetype": "text/x-python",
   "name": "python",
   "nbconvert_exporter": "python",
   "pygments_lexer": "ipython3",
   "version": "3.8.19"
  }
 },
 "nbformat": 4,
 "nbformat_minor": 2
}
